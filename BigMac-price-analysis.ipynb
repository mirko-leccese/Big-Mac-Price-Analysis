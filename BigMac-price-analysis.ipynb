{
 "cells": [
  {
   "cell_type": "markdown",
   "metadata": {},
   "source": [
    "# Big Mac Price Analysis\n",
    "\n"
   ]
  },
  {
   "cell_type": "code",
   "execution_count": 1,
   "metadata": {},
   "outputs": [
    {
     "name": "stdout",
     "output_type": "stream",
     "text": [
      "            date currency_code                  name  local_price  dollar_ex  \\\n",
      "0     2000-04-01           ARS             Argentina         2.50          1   \n",
      "1     2000-04-01           AUD             Australia         2.59          1   \n",
      "2     2000-04-01           BRL                Brazil         2.95          1   \n",
      "3     2000-04-01           GBP               Britain         1.90          1   \n",
      "4     2000-04-01           CAD                Canada         2.85          1   \n",
      "...          ...           ...                   ...          ...        ...   \n",
      "1941  2022-07-01           AED  United Arab Emirates        18.00          3   \n",
      "1942  2022-07-01           USD         United States         5.15          1   \n",
      "1943  2022-07-01           UYU               Uruguay       255.00         41   \n",
      "1944  2022-07-01           VES             Venezuela        10.00          5   \n",
      "1945  2022-07-01           VND               Vietnam     69000.00      23417   \n",
      "\n",
      "      dollar_price  \n",
      "0             2.50  \n",
      "1             2.59  \n",
      "2             2.95  \n",
      "3             1.90  \n",
      "4             2.85  \n",
      "...            ...  \n",
      "1941          6.00  \n",
      "1942          5.15  \n",
      "1943          6.22  \n",
      "1944          2.00  \n",
      "1945          2.95  \n",
      "\n",
      "[1946 rows x 6 columns]\n"
     ]
    }
   ],
   "source": [
    "import pandas as pd\n",
    "import numpy as np\n",
    "import matplotlib.pyplot as plt\n",
    "\n",
    "bigmac = pd.read_csv(\"./BigmacPrice.csv\")\n",
    "\n",
    "print(bigmac)"
   ]
  }
 ],
 "metadata": {
  "interpreter": {
   "hash": "aee8b7b246df8f9039afb4144a1f6fd8d2ca17a180786b69acc140d282b71a49"
  },
  "kernelspec": {
   "display_name": "Python 3.10.1 64-bit",
   "language": "python",
   "name": "python3"
  },
  "language_info": {
   "codemirror_mode": {
    "name": "ipython",
    "version": 3
   },
   "file_extension": ".py",
   "mimetype": "text/x-python",
   "name": "python",
   "nbconvert_exporter": "python",
   "pygments_lexer": "ipython3",
   "version": "3.10.1"
  },
  "orig_nbformat": 4
 },
 "nbformat": 4,
 "nbformat_minor": 2
}
