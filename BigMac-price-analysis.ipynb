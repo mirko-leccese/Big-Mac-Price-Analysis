{
 "cells": [
  {
   "cell_type": "markdown",
   "metadata": {},
   "source": [
    "# Big Mac Price Analysis\n",
    "\n"
   ]
  },
  {
   "cell_type": "code",
   "execution_count": 5,
   "metadata": {},
   "outputs": [
    {
     "name": "stdout",
     "output_type": "stream",
     "text": [
      "(1946, 6)\n",
      "Index(['date', 'currency_code', 'name', 'local_price', 'dollar_ex',\n",
      "       'dollar_price'],\n",
      "      dtype='object')\n"
     ]
    }
   ],
   "source": [
    "import pandas as pd\n",
    "import numpy as np\n",
    "import matplotlib.pyplot as plt\n",
    "\n",
    "bigmac = pd.read_csv(\"./BigmacPrice.csv\")\n",
    "\n",
    "# Print information about the dataset \n",
    "print(bigmac.shape)\n",
    "print(bigmac.columns)"
   ]
  },
  {
   "cell_type": "markdown",
   "metadata": {},
   "source": [
    "The Big Mac dataset consists of **1946** rows and **6** columns. These are: *date*, *currency_code*, *name*, *local_price*, *dollar_ex* and *dollar_price*. According to the author's description available on Kaggle, *dollar_ex* is the US dollar conversion rate, namely:\n",
    "\n",
    "$$ \\frac{\\text{local\\_price}}{\\text{dollar\\_ex}} = \\text{dollar\\_price} $$\n",
    "\n",
    "Let start by doing some *explarotory data analysys* (EDA). The dataset contains a *date* column, so we should first check the extent of data in time:"
   ]
  },
  {
   "cell_type": "code",
   "execution_count": 10,
   "metadata": {},
   "outputs": [
    {
     "name": "stdout",
     "output_type": "stream",
     "text": [
      "The number of distinct date in the date column is: 37\n",
      "Minimum date: 2000-04-01    Maximum date: 2022-07-01\n"
     ]
    }
   ],
   "source": [
    "# Check number of distinct date\n",
    "distinct_date = bigmac[\"date\"].nunique()\n",
    "print(f\"The number of distinct date in the date column is: {distinct_date}\")\n",
    "\n",
    "# Find min and max date:\n",
    "min_date = bigmac[\"date\"].min()\n",
    "max_date = bigmac[\"date\"].max()\n",
    "print(f\"Minimum date: {min_date}    Maximum date: {max_date}\")"
   ]
  }
 ],
 "metadata": {
  "interpreter": {
   "hash": "aee8b7b246df8f9039afb4144a1f6fd8d2ca17a180786b69acc140d282b71a49"
  },
  "kernelspec": {
   "display_name": "Python 3.10.1 64-bit",
   "language": "python",
   "name": "python3"
  },
  "language_info": {
   "codemirror_mode": {
    "name": "ipython",
    "version": 3
   },
   "file_extension": ".py",
   "mimetype": "text/x-python",
   "name": "python",
   "nbconvert_exporter": "python",
   "pygments_lexer": "ipython3",
   "version": "3.10.1"
  },
  "orig_nbformat": 4
 },
 "nbformat": 4,
 "nbformat_minor": 2
}
